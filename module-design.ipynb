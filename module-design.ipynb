{
 "cells": [
  {
   "cell_type": "code",
   "execution_count": 157,
   "id": "3be8d11d-2aa6-49c0-9d67-9f99b6adbf51",
   "metadata": {},
   "outputs": [],
   "source": [
    "import cv2\n",
    "import cv2 as cv\n",
    "import numpy as np\n",
    "import matplotlib.pyplot as plt\n",
    "import time\n",
    "import random\n",
    "from cnocr import CnOcr"
   ]
  },
  {
   "cell_type": "code",
   "execution_count": 158,
   "id": "4b2d086c-a548-4c21-a6ae-2efd778ac805",
   "metadata": {},
   "outputs": [],
   "source": [
    "def show(img = None,name = \"show\",mouse_zoom = False, *args):\n",
    "    if img is None or not(isinstance(img,np.ndarray)):\n",
    "        cv.destroyAllWindows()\n",
    "        print(\"Not img\")\n",
    "        return\n",
    "    if mouse_zoom:\n",
    "        cv.namedWindow(name,cv.WINDOW_NORMAL)\n",
    "    try:\n",
    "        cv.imshow(name, img)\n",
    "        cv.waitKey(0)\n",
    "        cv.destroyAllWindows()\n",
    "    except BaseException as er:\n",
    "        print(\"show Error!\\n\", er)\n",
    "    finally:\n",
    "        cv.destroyAllWindows()"
   ]
  },
  {
   "cell_type": "code",
   "execution_count": 173,
   "id": "b43cb650-441d-49f9-b574-18126697c4e5",
   "metadata": {},
   "outputs": [],
   "source": [
    "def resize(image, factor=2):\n",
    "    height, width = image.shape[:2]\n",
    "    # 计算新的尺寸\n",
    "    new_width = width * factor\n",
    "    new_height = height * factor\n",
    "    # 放大图像\n",
    "    resized_image = cv2.resize(image, (new_width, new_height), interpolation=cv2.INTER_CUBIC)\n",
    "    return resized_image"
   ]
  },
  {
   "cell_type": "code",
   "execution_count": 220,
   "id": "68676e87-b0e8-40c2-bf6b-a9914e497924",
   "metadata": {},
   "outputs": [],
   "source": [
    "img = cv.imread('img/20230915081154.bmp')"
   ]
  },
  {
   "cell_type": "code",
   "execution_count": 221,
   "id": "85ae59f4-4bdb-4497-8225-170bcfdd82b2",
   "metadata": {},
   "outputs": [],
   "source": [
    "# # 定义要截取的第一个区域：x, y, w, h\n",
    "# x1, y1, w1, h1 = 50, 50, 100, 100  # 请替换为您的实际坐标和尺寸\n",
    "# roi1 = img[y1:y1+h1, x1:x1+w1]\n",
    "\n",
    "# # 定义要截取的第二个区域：x, y, w, h\n",
    "# x2, y2, w2, h2 = 200, 200, 100, 100  # 请替换为您的实际坐标和尺寸\n",
    "# roi2 = img[y2:y2+h2, x2:x2+w2]\n",
    "\n",
    "# # 如果需要，显示截取的区域\n",
    "# cv2.imshow('ROI1', roi1)\n",
    "# cv2.imshow('ROI2', roi2)\n",
    "# cv2.waitKey(0)\n",
    "# cv2.destroyAllWindows()\n",
    "\n",
    "# # 如果需要，保存截取的区域\n",
    "# cv2.imwrite('roi1.png', roi1)\n",
    "# cv2.imwrite('roi2.png', roi2)"
   ]
  },
  {
   "cell_type": "code",
   "execution_count": 224,
   "id": "bc3a01d4-bb25-4100-a39a-35d97a809e2e",
   "metadata": {},
   "outputs": [
    {
     "data": {
      "text/plain": [
       "numpy.ndarray"
      ]
     },
     "execution_count": 224,
     "metadata": {},
     "output_type": "execute_result"
    }
   ],
   "source": [
    "x1, y1, w1, h1 = 175, 145, 80, 20  # 请替换为您的实际坐标和尺寸\n",
    "name_roi = img[y1:y1+h1, x1:x1+w1]\n",
    "\n",
    "# 定义要截取的第二个区域：x, y, w, h\n",
    "x2, y2, w2, h2 = 515, 170, 80, 20  # 请替换为您的实际坐标和尺寸\n",
    "date_roi = img[y2:y2+h2, x2:x2+w2]\n",
    "\n",
    "x3, y3, w3, h3 = 69, 898, 675, 140  # 请替换为您的实际坐标和尺寸\n",
    "diagnosis_roi = img[y3:y3+h3, x3:x3+w3]\n",
    "# 如果需要，显示截取的区域\n",
    "# cv2.imshow('name_roi', name_roi)\n",
    "# cv2.imshow('date_roi', date_roi)\n",
    "# cv2.imshow('diagnosis_roi', diagnosis_roi)\n",
    "# cv2.waitKey(0)\n",
    "# cv2.destroyAllWindows()\n",
    "type(name_roi) "
   ]
  },
  {
   "cell_type": "code",
   "execution_count": 226,
   "id": "951820dd-7673-4636-bbaa-e0bf963e106e",
   "metadata": {
    "scrolled": true
   },
   "outputs": [
    {
     "name": "stdout",
     "output_type": "stream",
     "text": [
      "冯君莲\n"
     ]
    }
   ],
   "source": [
    "ocr = CnOcr(rec_model_name='densenet_lite_136-fc')\n",
    "name_roi = resize(name_roi)\n",
    "show(name_roi)\n",
    "out = ocr.ocr(name_roi, resized_shape=(512,1024))\n",
    "# print(out[0]['text'])\n",
    "User_name = out[0]['text']"
   ]
  },
  {
   "cell_type": "code",
   "execution_count": 227,
   "id": "7ae23944-76f3-4e51-bca8-a1be1ba9269f",
   "metadata": {},
   "outputs": [
    {
     "name": "stdout",
     "output_type": "stream",
     "text": [
      "[{'text': '202308-16', 'score': 0.6747325658798218, 'position': array([[         36,          38],\n",
      "       [        725,          38],\n",
      "       [        725,         140],\n",
      "       [         36,         140]], dtype=float32)}]\n",
      "202308-16\n"
     ]
    }
   ],
   "source": [
    "date_roi = resize(date_roi, 10)\n",
    "show(date_roi)\n",
    "out = ocr.ocr(date_roi,resized_shape=(512,1024))\n",
    "print(out)\n",
    "# print(out[0]['text'])\n",
    "Date = out[0]['text']"
   ]
  },
  {
   "cell_type": "code",
   "execution_count": 229,
   "id": "0b36369d-f827-4c79-a4ed-163896675e13",
   "metadata": {},
   "outputs": [
    {
     "name": "stderr",
     "output_type": "stream",
     "text": [
      "[WARNING 2023-09-22 19:49:37,772 _showwarnmsg:109] D:\\Program\\Anaconda\\envs\\torch310\\lib\\site-packages\\torchvision\\transforms\\functional.py:1603: UserWarning: The default value of the antialias parameter of all the resizing transforms (Resize(), RandomResizedCrop(), etc.) will change from None to True in v0.17, in order to be consistent across the PIL and Tensor backends. To suppress this warning, directly pass antialias=True (recommended, future default), antialias=None (current default, which means False for Tensors and True for PIL), or antialias=False (only works on Tensors - PIL will still use antialiasing). This also applies if you are using the inference transforms from the models weights: update the call to weights.transforms(antialias=True).\n",
      "  warnings.warn(\n",
      " \n"
     ]
    },
    {
     "name": "stdout",
     "output_type": "stream",
     "text": [
      "双侧声带表面黏膜光滑，未见异常新生物，游离缘内侧见沟样凹陷，未累及声带全长，双侧声带内收和外展运动正常。双侧声带闭合时见缝隙，声门上代偿明显。发音时声带振动较僵硬，振动幅度和黏膜波均减弱。披裂黏膜充血和水肿，杓间区未见黏膜肥厚及肉芽增生。诊断：双侧声带沟\n"
     ]
    }
   ],
   "source": [
    "diagnosis_roi = resize(diagnosis_roi)\n",
    "show(diagnosis_roi)\n",
    "out = ocr.ocr(diagnosis_roi)\n",
    "Diagnosis = \"\"\n",
    "for line in out:\n",
    "    Diagnosis += line['text']\n",
    "print(Diagnosis)"
   ]
  },
  {
   "cell_type": "code",
   "execution_count": null,
   "id": "d4f2776e-de16-4d61-a061-0564c76d2f0b",
   "metadata": {},
   "outputs": [],
   "source": []
  }
 ],
 "metadata": {
  "kernelspec": {
   "display_name": "Python 3 (ipykernel)",
   "language": "python",
   "name": "python3"
  },
  "language_info": {
   "codemirror_mode": {
    "name": "ipython",
    "version": 3
   },
   "file_extension": ".py",
   "mimetype": "text/x-python",
   "name": "python",
   "nbconvert_exporter": "python",
   "pygments_lexer": "ipython3",
   "version": "3.10.11"
  }
 },
 "nbformat": 4,
 "nbformat_minor": 5
}
